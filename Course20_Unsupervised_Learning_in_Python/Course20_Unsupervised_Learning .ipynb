{
 "cells": [
  {
   "cell_type": "markdown",
   "metadata": {},
   "source": [
    "# Unsupervised Learning : \n",
    "Class of machine learning for discovering patterns in Data. \n",
    "\n",
    "data to use: iris/seeds data/ pidmont wine data/ fish measurement data: http://jse.amstat.org/jse_data_archive.htm\n",
    " \n",
    "#### Type of unsupervised learning: \n",
    "- 1- Clustring (clustring customers based on their history of purchases) \n",
    "  - Using KMeans.\n",
    "  - Using Hierarchical clustering with dendrogram.\n",
    "  - Using TSNE.\n",
    "\n",
    "- 2- Dimension reduction (finds pattern in data and uses this patterns to reexpress it in a compressed form).\n",
    "\n",
    "## 1- Clustring : K-means clustring Algorithm\n",
    "\n",
    "K-mean clustring finds a specified number of clusters in the samples. \n",
    "\n",
    "Steps to clustering : \n",
    "- Import choosed model (KMeans) and fit, predict.\n",
    "- predict on test data\n",
    "- visualizing the clusters\n",
    "- evaluate the accuracy/ performance. : Cross tabulation with pandas\n",
    "- measure the quality of clustering without looking at species group (this measure of quality can then be used to make an informed choice about the number of clusters to look for) "
   ]
  },
  {
   "cell_type": "code",
   "execution_count": 1,
   "metadata": {},
   "outputs": [],
   "source": [
    "import pandas as pd \n",
    "import numpy as np\n",
    "import matplotlib.pyplot as plt\n",
    "from sklearn.datasets import load_iris\n",
    "\n",
    "# loading the iris dataSet as a sample\n",
    "data = load_iris()\n",
    "samples = data.data\n"
   ]
  },
  {
   "cell_type": "code",
   "execution_count": 2,
   "metadata": {},
   "outputs": [
    {
     "name": "stdout",
     "output_type": "stream",
     "text": [
      "[1 1 1 1 1 1 1 1 1 1 1 1 1 1 1 1 1 1 1 1 1 1 1 1 1 1 1 1 1 1 1 1 1 1 1 1 1\n",
      " 1 1 1 1 1 1 1 1 1 1 1 1 1 0 0 2 0 0 0 0 0 0 0 0 0 0 0 0 0 0 0 0 0 0 0 0 0\n",
      " 0 0 0 2 0 0 0 0 0 0 0 0 0 0 0 0 0 0 0 0 0 0 0 0 0 0 2 0 2 2 2 2 0 2 2 2 2\n",
      " 2 2 0 0 2 2 2 2 0 2 0 2 0 2 2 0 0 2 2 2 2 2 0 2 2 2 2 0 2 2 2 0 2 2 2 0 2\n",
      " 2 0]\n"
     ]
    }
   ],
   "source": [
    "# importing K-mean \n",
    "from sklearn.cluster import KMeans\n",
    "\n",
    "# Specifying the number of clusters to find\n",
    "model = KMeans(n_clusters = 3)\n",
    "\n",
    "#fitting the data\n",
    "model.fit(samples)\n",
    "\n",
    "# predicting the labels : \n",
    "labels = model.predict(samples)\n",
    "print(labels)\n",
    "\n",
    "# lables return a cluster label for each sample, indicating to which cluster a sample belongs.\n",
    "# To cluster new lables to new samples we only pass the new_samples to model.predict(new_samples) without the need\n",
    "# to fit the model, BECAUSE Kmeans rembembers the average/ mean THE CENTROIDS of each clustered samples and clusters \n",
    "# new_samples based on the centroids. (if the new sample has a centroid close to the clusted samples, it belong to that cluster)\n",
    "\n",
    "# Assign the cluster centers: centroids\n",
    "centroids = model.cluster_centers_\n",
    "\n",
    "# Assign the columns of centroids: centroids_x, centroids_y\n",
    "centroids_x = centroids[:,0]\n",
    "centroids_y = centroids[:,2]\n"
   ]
  },
  {
   "cell_type": "code",
   "execution_count": 15,
   "metadata": {},
   "outputs": [
    {
     "data": {
      "image/png": "[encoded data removed]",
      "text/plain": [
       "<Figure size 432x288 with 1 Axes>"
      ]
     },
     "metadata": {
      "needs_background": "light"
     },
     "output_type": "display_data"
    },
    {
     "name": "stdout",
     "output_type": "stream",
     "text": [
      "The scatter suggests that there are 3 diffrent clusters, n_clusters =3\n"
     ]
    }
   ],
   "source": [
    "# make a scatter plot to see cluters : \n",
    "\n",
    "#it is not easy to inspect the clustering by just looking at the printed labels. \n",
    "#A visualization would be far more useful. \n",
    "\n",
    "# sepal length\n",
    "xs = samples[:,0] \n",
    "\n",
    "# petal length\n",
    "ys = samples[:,2]\n",
    "\n",
    "# scatter plot \n",
    "plt.scatter(xs, ys, c=labels)\n",
    "plt.xlabel('sepal length')\n",
    "plt.ylabel('petal length')\n",
    "plt.title('Clustered iris samples')\n",
    "\n",
    "# Make a scatter plot of centroids_x and centroids_y\n",
    "plt.scatter(centroids_x,centroids_y, marker='D', s=50)\n",
    "\n",
    "plt.show()\n",
    "\n",
    "print('The scatter suggests that there are 3 diffrent clusters, n_clusters =3')"
   ]
  },
  {
   "cell_type": "markdown",
   "metadata": {},
   "source": [
    "### Evaluating a clustering : \n",
    "\n",
    "how can you be sure that 3 clusters is the correct choice? \n",
    "In other words, how can you evaluate the quality of a clustering?\n",
    "\n",
    "#### Solution 1: comparing the clusters with iris species: Cross tabulation Clusters vs species. (Usually in clustering problems we don't have target grouped)\n",
    "Cross tabulation provides great insights into which sort of samples are in wich cluster\n",
    "\n",
    "\n",
    "#### Solution 2: Measuring clustring quality using inertia & Choosing n_clusters : \n",
    "\n",
    "A good clustering has tight clusters and the samples in each cluster are bunched together.\n",
    "The KMeans model uses inertia to cluster new samples. \n",
    "inertia measures how spread out the samples are from the centeroids of its cluster, the smaller the inertia the better. KMeans attemps to minimize the inertia when choosing clusters.\n",
    "\n",
    "\n",
    "**Choosing n_clusters:** To choose a good number of clusters for a dataset using the k-means inertia graph.(ellbow point)"
   ]
  },
  {
   "cell_type": "code",
   "execution_count": 14,
   "metadata": {},
   "outputs": [
    {
     "data": {
      "text/html": [
       "<div>\n",
       "<style scoped>\n",
       "    .dataframe tbody tr th:only-of-type {\n",
       "        vertical-align: middle;\n",
       "    }\n",
       "\n",
       "    .dataframe tbody tr th {\n",
       "        vertical-align: top;\n",
       "    }\n",
       "\n",
       "    .dataframe thead th {\n",
       "        text-align: right;\n",
       "    }\n",
       "</style>\n",
       "<table border=\"1\" class=\"dataframe\">\n",
       "  <thead>\n",
       "    <tr style=\"text-align: right;\">\n",
       "      <th>species</th>\n",
       "      <th>setosa</th>\n",
       "      <th>versicolor</th>\n",
       "      <th>virginica</th>\n",
       "    </tr>\n",
       "    <tr>\n",
       "      <th>Labels</th>\n",
       "      <th></th>\n",
       "      <th></th>\n",
       "      <th></th>\n",
       "    </tr>\n",
       "  </thead>\n",
       "  <tbody>\n",
       "    <tr>\n",
       "      <th>0</th>\n",
       "      <td>0</td>\n",
       "      <td>48</td>\n",
       "      <td>14</td>\n",
       "    </tr>\n",
       "    <tr>\n",
       "      <th>1</th>\n",
       "      <td>50</td>\n",
       "      <td>0</td>\n",
       "      <td>0</td>\n",
       "    </tr>\n",
       "    <tr>\n",
       "      <th>2</th>\n",
       "      <td>0</td>\n",
       "      <td>2</td>\n",
       "      <td>36</td>\n",
       "    </tr>\n",
       "  </tbody>\n",
       "</table>\n",
       "</div>"
      ],
      "text/plain": [
       "species  setosa  versicolor  virginica\n",
       "Labels                                \n",
       "0             0          48         14\n",
       "1            50           0          0\n",
       "2             0           2         36"
      ]
     },
     "execution_count": 14,
     "metadata": {},
     "output_type": "execute_result"
    }
   ],
   "source": [
    "#### Solution 1: comparing the clusters with iris species: Cross tabulation Clusters vs species. \n",
    "\n",
    "df = pd.DataFrame({'Labels': labels, 'Species': data.target})\n",
    "\n",
    "#Cross tabulation Clusters vs species\n",
    "cross_tab = pd.crosstab(df['Labels'], df['Species'])\n",
    "cross_tab.columns = data.target_names\n",
    "cross_tab.columns.name = 'species'\n",
    "cross_tab \n",
    "\n"
   ]
  },
  {
   "cell_type": "code",
   "execution_count": 19,
   "metadata": {},
   "outputs": [
    {
     "data": {
      "image/png": "[encoded data removed]",
      "text/plain": [
       "<Figure size 432x288 with 1 Axes>"
      ]
     },
     "metadata": {
      "needs_background": "light"
     },
     "output_type": "display_data"
    },
    {
     "name": "stdout",
     "output_type": "stream",
     "text": [
      "The inertia decreases very slowly from 3 clusters to 4, so it looks like 3 clusters would be a good choice for this data.\n"
     ]
    }
   ],
   "source": [
    "#### Solution 2: Measuring clustring quality and\n",
    "\n",
    "ks = range(1, 6)\n",
    "inertias = []\n",
    "\n",
    "for k in ks:\n",
    "    # Create a KMeans instance with k clusters: model\n",
    "    model = KMeans(n_clusters= k)\n",
    "    \n",
    "    # Fit model to samples\n",
    "    model.fit(samples)\n",
    "    \n",
    "    # Append the inertia to the list of inertias\n",
    "    inertias.append(model.inertia_)\n",
    "    \n",
    "# Plot ks vs inertias\n",
    "plt.plot(ks, inertias, '-o')\n",
    "plt.xlabel('number of clusters, k')\n",
    "plt.ylabel('inertia')\n",
    "plt.xticks(ks)\n",
    "plt.show()\n",
    "\n",
    "print('The inertia decreases very slowly from 3 clusters to 4, so it looks like 3 clusters would be a good choice for this data.')\n",
    "\n",
    "\n"
   ]
  },
  {
   "cell_type": "markdown",
   "metadata": {},
   "source": [
    "### Transforming features for better clusterings: \n",
    "\n",
    "in KMeans Clustering the variance of the data features influences directly the clustering algorithm (example of pidmont wine data). To solve this problem, the data needs to be transformed so that the features have equal variance, this can be achieved with **standarScaler(transforms each feature to have mean 0 and variance 1)**. the resulting standerized features can be very informative. \n",
    "\n",
    "other preprocessing available : MaxAbsScaler/ Normalizer\n",
    "\n",
    "- The Normalizer :  separately transform each feature to a relative scale before the clustering begins. \n",
    "\n",
    "N.B : standarScaler() standardizes features by removing the mean and scaling to unit variance, Normalizer() rescales each sample independently of the other."
   ]
  },
  {
   "cell_type": "code",
   "execution_count": 21,
   "metadata": {},
   "outputs": [],
   "source": [
    "# Example of standarScaler \n",
    "\n",
    "from sklearn.preprocessing import StandardScaler\n",
    "\n",
    "scaler = StandardScaler()\n",
    "\n",
    "#fit the scaler to the samples\n",
    "scaler.fit(samples)\n",
    "\n",
    "#Transform the samples\n",
    "samples_scaled = scaler.transform(samples)"
   ]
  },
  {
   "cell_type": "markdown",
   "metadata": {},
   "source": [
    "## StandarScaler and clustering using Sklearn Pipeline: \n",
    "\n",
    "data flows through pipeline steps automaticaly"
   ]
  },
  {
   "cell_type": "code",
   "execution_count": 24,
   "metadata": {},
   "outputs": [],
   "source": [
    "# # Pipeline example: using wine data because the iris data give a good result and it doesn't have variance measures.\n",
    "\n",
    "# # prefrom imports : \n",
    "# #from sklearn.preprocessing import StandardScaler\n",
    "# #from sklearn.cluster import KMeans \n",
    "# from sklearn.pipeline import make_pipeline\n",
    "\n",
    "# feature_scaler = StandardScaler()\n",
    "# model = KMeans(n_clusters= 3)\n",
    "\n",
    "# #building pipeline steps\n",
    "# pipeline = make_pipeline(feature_scaler, model)\n",
    "\n",
    "# #fitting the pipeline to the data \n",
    "# pipeline.fit(wine_samples)\n",
    "\n",
    "# # predicting clusters\n",
    "# predicted_clusters = pipeline.predict(samples)\n",
    "# print(predicted_clusters)\n",
    "\n",
    "# # Evaluating the cluster using cross tabulation\n",
    "\n",
    "# df2 = pd.DataFrame({'Labels': predicted_clusters, 'wine_varieties':data.target})\n",
    "# cross_tabulation = pd.crosstab(df2['Labels'], df2['wine_varieties'])\n",
    "# cross_tabulation"
   ]
  },
  {
   "cell_type": "markdown",
   "metadata": {},
   "source": [
    "## 2- Visualization with hierarchical clustering and t-SNE\n",
    "\n",
    "1/ t-SNE : creates a 2D map of dataset : conveys useful infomation about the proximity of the samples to one other.\n",
    "hierarchical clustering : arranges samples into a hierarchical of clusters that are contained in one another and form a hierarchy. It's visualizations that make t-SNE such a powerful tool for extracting quick insights from high dimensional data.\n",
    "\n",
    "2- Types of hierarchical clustering: \n",
    "- agglomerative clustering.\n",
    "- divisive clustering.\n",
    "\n",
    "#### 1- Visualizing hierarchy with dendrogram & extracting clusters : agglomerative hierarchical clustering\n",
    "\n",
    "Dendrograms are a great way to illustrate the arrangement of the clusters produced by hierarchical clustering.\n"
   ]
  },
  {
   "cell_type": "code",
   "execution_count": 47,
   "metadata": {},
   "outputs": [
    {
     "data": {
      "image/png": "[encoded data removed]",
      "text/plain": [
       "<Figure size 432x288 with 1 Axes>"
      ]
     },
     "metadata": {
      "needs_background": "light"
     },
     "output_type": "display_data"
    }
   ],
   "source": [
    "# building dendrogram : hierarchical clustering with scipy\n",
    "\n",
    "import matplotlib.pyplot as plt\n",
    "from scipy.cluster.hierarchy import linkage, dendrogram\n",
    "from sklearn.datasets import load_wine\n",
    "\n",
    "#loading the data\n",
    "wine_data = load_wine()\n",
    "wine = wine_data.data\n",
    "\n",
    "#liking using complete or single method\n",
    "mergings_ = linkage(wine, method ='complete')\n",
    "\n",
    "#dendrogram :\n",
    "dendrogram(mergings_, labels = wine_data.target, leaf_rotation= 90, leaf_font_size= 6)\n",
    "plt.show()"
   ]
  },
  {
   "cell_type": "markdown",
   "metadata": {},
   "source": [
    "#### Cluster labels in hierarchical clustering: \n",
    "\n",
    "Extracting clusters from intermediate stage of a hirarchical clustering, the cluster labels for this intermediate clusterings can then be used in further computations such as a cross tabulation, just like cluster label from KMeans.\n",
    "\n",
    "#### Extracting cluster labels from dendrogram\n",
    "The cluster labels for any intermediate stage of the hierarchical clustering can be extracted using f cluster "
   ]
  },
  {
   "cell_type": "code",
   "execution_count": 55,
   "metadata": {},
   "outputs": [
    {
     "data": {
      "text/html": [
       "<div>\n",
       "<style scoped>\n",
       "    .dataframe tbody tr th:only-of-type {\n",
       "        vertical-align: middle;\n",
       "    }\n",
       "\n",
       "    .dataframe tbody tr th {\n",
       "        vertical-align: top;\n",
       "    }\n",
       "\n",
       "    .dataframe thead th {\n",
       "        text-align: right;\n",
       "    }\n",
       "</style>\n",
       "<table border=\"1\" class=\"dataframe\">\n",
       "  <thead>\n",
       "    <tr style=\"text-align: right;\">\n",
       "      <th>wine_group</th>\n",
       "      <th>0</th>\n",
       "      <th>1</th>\n",
       "      <th>2</th>\n",
       "    </tr>\n",
       "    <tr>\n",
       "      <th>labels</th>\n",
       "      <th></th>\n",
       "      <th></th>\n",
       "      <th></th>\n",
       "    </tr>\n",
       "  </thead>\n",
       "  <tbody>\n",
       "    <tr>\n",
       "      <th>1</th>\n",
       "      <td>6</td>\n",
       "      <td>0</td>\n",
       "      <td>0</td>\n",
       "    </tr>\n",
       "    <tr>\n",
       "      <th>2</th>\n",
       "      <td>37</td>\n",
       "      <td>0</td>\n",
       "      <td>0</td>\n",
       "    </tr>\n",
       "    <tr>\n",
       "      <th>3</th>\n",
       "      <td>16</td>\n",
       "      <td>15</td>\n",
       "      <td>21</td>\n",
       "    </tr>\n",
       "    <tr>\n",
       "      <th>4</th>\n",
       "      <td>0</td>\n",
       "      <td>56</td>\n",
       "      <td>27</td>\n",
       "    </tr>\n",
       "  </tbody>\n",
       "</table>\n",
       "</div>"
      ],
      "text/plain": [
       "wine_group   0   1   2\n",
       "labels                \n",
       "1            6   0   0\n",
       "2           37   0   0\n",
       "3           16  15  21\n",
       "4            0  56  27"
      ]
     },
     "execution_count": 55,
     "metadata": {},
     "output_type": "execute_result"
    }
   ],
   "source": [
    "#### Extracting cluster labels : \n",
    "\n",
    "from scipy.cluster.hierarchy import  fcluster\n",
    "\n",
    "labels = fcluster(mergings_, 400, criterion = 'distance')\n",
    "\n",
    "pairs = pd.DataFrame({'labels': labels, 'wine_group': wine_data.target})\n",
    "#cluster label in scipy start from 1\n",
    "#print(pairs.sort_values('labels'))\n",
    "\n",
    "# Create crosstab: ct\n",
    "ct = pd.crosstab(pairs['labels'], pairs['wine_group'])\n",
    "\n",
    "# Display ct\n",
    "ct"
   ]
  },
  {
   "cell_type": "markdown",
   "metadata": {},
   "source": [
    "#### 2-  t-SNE for 2-dimensional maps:  tool for visualizing high dimensional data.\n",
    " \n",
    "T-distributed Stochastic Neighbor Embedding : maps samples from their high-dimensional space into a 2 or 3 dimensional space o they can be visualized. it represents aproximativly the distance btw samples.\n"
   ]
  },
  {
   "cell_type": "code",
   "execution_count": 57,
   "metadata": {},
   "outputs": [
    {
     "data": {
      "image/png": "[encoded data removed]",
      "text/plain": [
       "<Figure size 432x288 with 1 Axes>"
      ]
     },
     "metadata": {
      "needs_background": "light"
     },
     "output_type": "display_data"
    }
   ],
   "source": [
    "from sklearn.manifold import TSNE \n",
    "\n",
    "model = TSNE(learning_rate = 100)\n",
    "\n",
    "# fit transform the model :  \n",
    "transformed = model.fit_transform(samples)\n",
    "\n",
    "xy = transformed[:, 0]\n",
    "xy = transformed[:, 1]\n",
    "\n",
    "plt.scatter(xs, xy)\n",
    "\n",
    "plt.show()"
   ]
  },
  {
   "cell_type": "markdown",
   "metadata": {},
   "source": [
    "## 3- Dimension reduction : Decorrelating data and dimension reduction\n",
    "\n",
    "Dimension reduction summarizes a dataset using its common occuring patterns. In this chapter, you'll learn about the most fundamental of dimension reduction techniques, \"Principal Component Analysis\" (\"PCA\"). PCA is often used before supervised learning to improve model performance and generalization. It can also be useful for unsupervised learning. \n",
    "\n",
    "how it works:\n",
    "Dimension reduction : finds pattern in data and uses this patterns to reexpress it in a compressed form, by removing and discarding noisy features that cause big problems in supervised learning and classification . This make subsequent computattion with the data much more efficient especially for big datasets. \n",
    "\n",
    "Dimension reduction : using same data with less features.\n",
    "\n",
    "## Principle Component Analysis PCA : fundamental of dimension reduction. \n",
    "\n",
    "PCA preforms dimension reduction into 2 steps: \n",
    "- Decorrlation.\n",
    "- \n",
    "\n",
    "#### First step :  Decorrelation \n",
    "in  this step, PCA rotates the samples so that they are aligned with the coordinate axes, and shift the samples so that they have mean 0. \n",
    "\n",
    "##### Intrinsic dimension : \n",
    "the intrinsic dimension of a dataset is the number of features recquired to apprximate it. it informs dimension reduction because it tell us how much a data can be compressed(is the number of PCA features that have significant variance)\n",
    "\n"
   ]
  },
  {
   "cell_type": "code",
   "execution_count": 98,
   "metadata": {},
   "outputs": [
    {
     "data": {
      "image/png": "[encoded data removed]",
      "text/plain": [
       "<Figure size 432x288 with 1 Axes>"
      ]
     },
     "metadata": {
      "needs_background": "light"
     },
     "output_type": "display_data"
    },
    {
     "name": "stdout",
     "output_type": "stream",
     "text": [
      "the freature 0 and one have a high variance that we can choose to reduce the dimention of the data\n",
      "(178, 2)\n"
     ]
    },
    {
     "data": {
      "image/png": "[encoded data removed]",
      "text/plain": [
       "<Figure size 432x288 with 1 Axes>"
      ]
     },
     "metadata": {
      "needs_background": "light"
     },
     "output_type": "display_data"
    }
   ],
   "source": [
    "## Decorrelation \n",
    "\n",
    "from sklearn.decomposition import PCA\n",
    "from scipy.stats import pearsonr\n",
    "\n",
    "\n",
    "# import model\n",
    "model = PCA()\n",
    "\n",
    "# fit the model to lean\n",
    "model.fit(wine)\n",
    "\n",
    "# transform the data. \n",
    "transformed = model.transform(wine)\n",
    "\n",
    "#print('columns of the data correspond to PCA features, and features are often correlated')\n",
    "#print(transformed)\n",
    "\n",
    "\n",
    "### Intrinsic dimension :  \n",
    "\n",
    "# import model and data(done already iris data)\n",
    "\n",
    "\n",
    "model.fit(wine)\n",
    "features = range(model.n_components_)\n",
    "plt.bar(features, model.explained_variance_)\n",
    "plt.xticks(features)\n",
    "plt.xlabel('PCA features')\n",
    "plt.ylabel('variance')\n",
    "plt.show()\n",
    "\n",
    "print('the freature 0 and one have a high variance that we can choose to reduce the dimention of the data')\n",
    "\n",
    "\n",
    "\n",
    "## choosing one pca feature to represent all the data \n",
    "# import model\n",
    "model = PCA(n_components=2)\n",
    "\n",
    "# fit the model to lean\n",
    "model.fit(wine)\n",
    "\n",
    "# transform the data. \n",
    "transformed = model.transform(wine)\n",
    "\n",
    "#new shape of the data \n",
    "print(transformed.shape)\n",
    "\n",
    "\n",
    "#visualizing the scatter of the data after it has been reduced to 2 features\n",
    "f1 = transformed[:,0]\n",
    "f2 = transformed[:,1]\n",
    "\n",
    "#the color needs to be specified by the type of wine\n",
    "plt.scatter(f1,f2,)\n",
    "plt.show()\n"
   ]
  },
  {
   "cell_type": "code",
   "execution_count": null,
   "metadata": {},
   "outputs": [],
   "source": [
    "## The first principal component\n",
    "\n",
    "## The first principal component of the data is the direction in which the data varies the most. \n",
    "## In this exercise, your job is to use PCA to find the first principal component of the length and width measurements of the iris samples, \n",
    "##and represent it as an arrow on the scatter plot."
   ]
  },
  {
   "cell_type": "code",
   "execution_count": 92,
   "metadata": {},
   "outputs": [
    {
     "data": {
      "image/png": "[encoded data removed]",
      "text/plain": [
       "<Figure size 432x288 with 1 Axes>"
      ]
     },
     "metadata": {
      "needs_background": "light"
     },
     "output_type": "display_data"
    },
    {
     "data": {
      "image/png": "[encoded data removed]",
      "text/plain": [
       "<Figure size 432x288 with 1 Axes>"
      ]
     },
     "metadata": {
      "needs_background": "light"
     },
     "output_type": "display_data"
    },
    {
     "name": "stdout",
     "output_type": "stream",
     "text": [
      " It looks like PCA features 0 and 1 have significant variance.\n"
     ]
    }
   ],
   "source": [
    "# Make a scatter plot of the untransformed points\n",
    "# sepal length >>xs = samples[:,0] \n",
    "# petal length >> ys = samples[:,2]\n",
    "\n",
    "plt.scatter(xs, ys)\n",
    "\n",
    "# Create a PCA instance: model\n",
    "model = PCA()\n",
    "\n",
    "# Fit model to points\n",
    "model.fit(samples)\n",
    "\n",
    "# Get the mean of the grain samples: mean\n",
    "mean = model.mean_\n",
    "\n",
    "# Get the first principal component: first_pc\n",
    "first_pc = model.components_[0,:]\n",
    "\n",
    "# Plot first_pc as an arrow, starting at mean\n",
    "plt.arrow(mean[0], mean[1], first_pc[0], first_pc[1], color='red', width=0.05)\n",
    "\n",
    "# Keep axes on same scale\n",
    "plt.axis('equal')\n",
    "plt.show()\n",
    "\n",
    "## Variance of the PCA features\n",
    "## what is its intrinsic dimension? Make a plot of the variances of the PCA features to find out.\n",
    "\n",
    "# Perform the necessary imports\n",
    "from sklearn.decomposition import PCA\n",
    "from sklearn.preprocessing import StandardScaler\n",
    "from sklearn.pipeline import make_pipeline\n",
    "import matplotlib.pyplot as plt\n",
    "\n",
    "# Create scaler: scaler\n",
    "scaler = StandardScaler()\n",
    "\n",
    "# Create a PCA instance: pca\n",
    "pca = PCA()\n",
    "\n",
    "# Create pipeline: pipeline\n",
    "pipeline = make_pipeline(scaler,pca)\n",
    "\n",
    "# Fit the pipeline to 'samples'\n",
    "pipeline.fit(samples)\n",
    "\n",
    "# Plot the explained variances\n",
    "features = range(pca.n_components_)\n",
    "plt.bar(features, pca.explained_variance_)\n",
    "plt.xlabel('PCA feature')\n",
    "plt.ylabel('variance')\n",
    "plt.xticks(features)\n",
    "plt.show()\n",
    "\n",
    "print(' It looks like PCA features 0 and 1 have significant variance.')"
   ]
  },
  {
   "cell_type": "markdown",
   "metadata": {},
   "source": [
    "## 4- Dimension reduction : Discovering interpretable features/ Non-negative matrix factorization (NMF)\n",
    "\n",
    "NMF models are interpretable inlike PCA but it can't be applied to any dataset, it recquires that the data features to be non negative\n",
    "\n",
    "a dimension reduction technique called \"Non-negative matrix factorization\" (\"NMF\") that expresses samples as combinations of interpretable parts. For example, it expresses documents as combinations of topics, and images in terms of commonly occurring visual patterns. You'll also learn to use NMF to build recommender systems that can find you similar articles to read, or musical artists that match your listening history!\n",
    "\n",
    "\n",
    "Ex : \n",
    "\n",
    "import NMF\n",
    "from sklearn.decomposition import NMF\n",
    "\n",
    "Create an NMF instance: model\n",
    "model = NMF(n_components = 6)\n",
    "\n",
    "Fit the model to articles\n",
    "model.fit(articles)\n",
    "\n",
    "Transform the articles: nmf_features\n",
    "nmf_features = model.transform(articles)\n",
    "\n",
    "Print the NMF features\n",
    "print(nmf_features)\n",
    "\n",
    "comparing results \n",
    "\n",
    "df = pd.DataFrame(nmf_features, index=titles)\n",
    "\n",
    "Print the row for 'Anne Hathaway'\n",
    "print(df.loc['Anne Hathaway'])\n",
    "\n",
    "Print the row for 'Denzel Washington'\n",
    "print(df.loc['Denzel Washington'])\n"
   ]
  },
  {
   "cell_type": "markdown",
   "metadata": {},
   "source": [
    "#### Building recommender systems using NMF and cosine similarity : \n",
    "\n",
    "ex :  Building recommender systems using NMF that recommends new newpaper to the custumer by applying NMF to the word frequency array of the articles that the customer reads and use the NMF features.\n",
    "\n",
    "\n",
    "Which articles are similar to 'Cristiano Ronaldo'?\n",
    "\n",
    "you learned how to use NMF features and the cosine similarity to find similar articles. Apply this to your NMF model for popular Wikipedia articles, by finding the articles most similar to the article about the footballer Cristiano Ronaldo. The NMF features you obtained earlier are available as nmf_features, while titles is a list of the article titles.\n",
    "\n",
    " Perform the necessary imports\n",
    "import pandas as pd\n",
    "from sklearn.preprocessing import normalize\n",
    "\n",
    "Normalize the NMF features: norm_features\n",
    "norm_features = normalize(nmf_features)\n",
    "\n",
    "Create a DataFrame: df\n",
    "df = pd.DataFrame(norm_features, index=titles)\n",
    "\n",
    "Select the row corresponding to 'Cristiano Ronaldo': article\n",
    "article = df.loc['Cristiano Ronaldo']\n",
    "\n",
    "Compute the dot products: similarities\n",
    "similarities = df.dot(article)\n",
    "\n",
    "Display those with the largest cosine similarity\n",
    "print(similarities.nlargest())\n",
    "\n",
    "\n",
    "ex 2 : \n",
    "\n",
    "Recommend musical artists part I\n",
    "In this exercise and the next, you'll use what you've learned about NMF to recommend popular music artists! You are given a sparse array artists whose rows correspond to artists and whose column correspond to users. The entries give the number of times each artist was listened to by each user.\n",
    "\n",
    "In this exercise, build a pipeline and transform the array into normalized NMF features. The first step in the pipeline, MaxAbsScaler, transforms the data so that all users have the same influence on the model, regardless of how many different artists they've listened to. In the next exercise, you'll use the resulting normalized NMF features for recommendation!\n",
    "\n",
    "\n",
    "Recommend musical artists part II\n",
    "Suppose you were a big fan of Bruce Springsteen - which other musicial artists might you like? Use your NMF features from the previous exercise and the cosine similarity to find similar musical artists. A solution to the previous exercise has been run, so norm_features is an array containing the normalized NMF features as rows. The names of the musical artists are available as the list artist_names.\n",
    "\n",
    "Create a DataFrame: df\n",
    "df = pd.DataFrame(norm_features, index= artist_names)\n",
    "\n",
    "Select row of 'Bruce Springsteen': artist\n",
    "artist = df.loc['Bruce Springsteen']\n",
    "\n",
    "Compute cosine similarities: similarities\n",
    "similarities = df.dot(artist)\n",
    "\n",
    "Display those with highest cosine similarity\n",
    "print(similarities.nlargest())\n"
   ]
  },
  {
   "cell_type": "code",
   "execution_count": null,
   "metadata": {},
   "outputs": [],
   "source": []
  }
 ],
 "metadata": {
  "kernelspec": {
   "display_name": "Python 3",
   "language": "python",
   "name": "python3"
  },
  "language_info": {
   "codemirror_mode": {
    "name": "ipython",
    "version": 3
   },
   "file_extension": ".py",
   "mimetype": "text/x-python",
   "name": "python",
   "nbconvert_exporter": "python",
   "pygments_lexer": "ipython3",
   "version": "3.7.2"
  }
 },
 "nbformat": 4,
 "nbformat_minor": 2
}
